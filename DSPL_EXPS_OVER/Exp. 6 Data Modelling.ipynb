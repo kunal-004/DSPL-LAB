{
 "cells": [
  {
   "cell_type": "code",
   "execution_count": 3,
   "id": "11ea04c4",
   "metadata": {},
   "outputs": [],
   "source": [
    "import pandas as pd\n",
    "df = pd.read_csv('C:\\\\Users\\\\kunal rajesh pitale\\\\Downloads\\\\flight2\\\\flights.csv',encoding= 'latin1')\n",
    "df2 = df"
   ]
  },
  {
   "cell_type": "code",
   "execution_count": 4,
   "id": "f040b3c2",
   "metadata": {},
   "outputs": [
    {
     "data": {
      "text/html": [
       "<div>\n",
       "<style scoped>\n",
       "    .dataframe tbody tr th:only-of-type {\n",
       "        vertical-align: middle;\n",
       "    }\n",
       "\n",
       "    .dataframe tbody tr th {\n",
       "        vertical-align: top;\n",
       "    }\n",
       "\n",
       "    .dataframe thead th {\n",
       "        text-align: right;\n",
       "    }\n",
       "</style>\n",
       "<table border=\"1\" class=\"dataframe\">\n",
       "  <thead>\n",
       "    <tr style=\"text-align: right;\">\n",
       "      <th></th>\n",
       "      <th>YEAR</th>\n",
       "      <th>QUARTER</th>\n",
       "      <th>MONTH</th>\n",
       "      <th>DAY_OF_MONTH</th>\n",
       "      <th>DAY_OF_WEEK</th>\n",
       "      <th>DISTANCE</th>\n",
       "      <th>price</th>\n",
       "      <th>class</th>\n",
       "      <th>airline</th>\n",
       "      <th>stops</th>\n",
       "      <th>departure_time</th>\n",
       "      <th>arrival_time</th>\n",
       "      <th>Delays</th>\n",
       "    </tr>\n",
       "  </thead>\n",
       "  <tbody>\n",
       "    <tr>\n",
       "      <th>count</th>\n",
       "      <td>317223.0</td>\n",
       "      <td>317223.000000</td>\n",
       "      <td>317223.000000</td>\n",
       "      <td>317223.000000</td>\n",
       "      <td>317223.000000</td>\n",
       "      <td>317223.000000</td>\n",
       "      <td>317223.000000</td>\n",
       "      <td>317223.000000</td>\n",
       "      <td>317223.000000</td>\n",
       "      <td>317223.000000</td>\n",
       "      <td>317223.000000</td>\n",
       "      <td>317223.000000</td>\n",
       "      <td>317223.000000</td>\n",
       "    </tr>\n",
       "    <tr>\n",
       "      <th>mean</th>\n",
       "      <td>2019.0</td>\n",
       "      <td>2.572131</td>\n",
       "      <td>6.727309</td>\n",
       "      <td>15.748357</td>\n",
       "      <td>3.957610</td>\n",
       "      <td>1266.801811</td>\n",
       "      <td>715.184722</td>\n",
       "      <td>0.702660</td>\n",
       "      <td>4.055567</td>\n",
       "      <td>0.932231</td>\n",
       "      <td>2.083991</td>\n",
       "      <td>2.663401</td>\n",
       "      <td>0.190160</td>\n",
       "    </tr>\n",
       "    <tr>\n",
       "      <th>std</th>\n",
       "      <td>0.0</td>\n",
       "      <td>1.084915</td>\n",
       "      <td>3.339705</td>\n",
       "      <td>8.776062</td>\n",
       "      <td>1.996544</td>\n",
       "      <td>666.230019</td>\n",
       "      <td>596.638702</td>\n",
       "      <td>0.457088</td>\n",
       "      <td>1.456562</td>\n",
       "      <td>0.428527</td>\n",
       "      <td>1.137905</td>\n",
       "      <td>1.286088</td>\n",
       "      <td>0.392428</td>\n",
       "    </tr>\n",
       "    <tr>\n",
       "      <th>min</th>\n",
       "      <td>2019.0</td>\n",
       "      <td>1.000000</td>\n",
       "      <td>1.000000</td>\n",
       "      <td>1.000000</td>\n",
       "      <td>1.000000</td>\n",
       "      <td>89.000000</td>\n",
       "      <td>444.000000</td>\n",
       "      <td>0.000000</td>\n",
       "      <td>1.000000</td>\n",
       "      <td>0.000000</td>\n",
       "      <td>1.000000</td>\n",
       "      <td>1.000000</td>\n",
       "      <td>0.000000</td>\n",
       "    </tr>\n",
       "    <tr>\n",
       "      <th>25%</th>\n",
       "      <td>2019.0</td>\n",
       "      <td>2.000000</td>\n",
       "      <td>4.000000</td>\n",
       "      <td>8.000000</td>\n",
       "      <td>2.000000</td>\n",
       "      <td>696.000000</td>\n",
       "      <td>444.000000</td>\n",
       "      <td>0.000000</td>\n",
       "      <td>3.000000</td>\n",
       "      <td>1.000000</td>\n",
       "      <td>1.000000</td>\n",
       "      <td>1.000000</td>\n",
       "      <td>0.000000</td>\n",
       "    </tr>\n",
       "    <tr>\n",
       "      <th>50%</th>\n",
       "      <td>2019.0</td>\n",
       "      <td>3.000000</td>\n",
       "      <td>7.000000</td>\n",
       "      <td>16.000000</td>\n",
       "      <td>4.000000</td>\n",
       "      <td>1024.000000</td>\n",
       "      <td>844.000000</td>\n",
       "      <td>1.000000</td>\n",
       "      <td>3.000000</td>\n",
       "      <td>1.000000</td>\n",
       "      <td>2.000000</td>\n",
       "      <td>3.000000</td>\n",
       "      <td>0.000000</td>\n",
       "    </tr>\n",
       "    <tr>\n",
       "      <th>75%</th>\n",
       "      <td>2019.0</td>\n",
       "      <td>4.000000</td>\n",
       "      <td>10.000000</td>\n",
       "      <td>23.000000</td>\n",
       "      <td>6.000000</td>\n",
       "      <td>1721.000000</td>\n",
       "      <td>844.000000</td>\n",
       "      <td>1.000000</td>\n",
       "      <td>6.000000</td>\n",
       "      <td>1.000000</td>\n",
       "      <td>3.000000</td>\n",
       "      <td>4.000000</td>\n",
       "      <td>0.000000</td>\n",
       "    </tr>\n",
       "    <tr>\n",
       "      <th>max</th>\n",
       "      <td>2019.0</td>\n",
       "      <td>4.000000</td>\n",
       "      <td>12.000000</td>\n",
       "      <td>31.000000</td>\n",
       "      <td>7.000000</td>\n",
       "      <td>2732.000000</td>\n",
       "      <td>31260.000000</td>\n",
       "      <td>1.000000</td>\n",
       "      <td>6.000000</td>\n",
       "      <td>2.000000</td>\n",
       "      <td>5.000000</td>\n",
       "      <td>5.000000</td>\n",
       "      <td>1.000000</td>\n",
       "    </tr>\n",
       "  </tbody>\n",
       "</table>\n",
       "</div>"
      ],
      "text/plain": [
       "           YEAR        QUARTER          MONTH   DAY_OF_MONTH    DAY_OF_WEEK  \\\n",
       "count  317223.0  317223.000000  317223.000000  317223.000000  317223.000000   \n",
       "mean     2019.0       2.572131       6.727309      15.748357       3.957610   \n",
       "std         0.0       1.084915       3.339705       8.776062       1.996544   \n",
       "min      2019.0       1.000000       1.000000       1.000000       1.000000   \n",
       "25%      2019.0       2.000000       4.000000       8.000000       2.000000   \n",
       "50%      2019.0       3.000000       7.000000      16.000000       4.000000   \n",
       "75%      2019.0       4.000000      10.000000      23.000000       6.000000   \n",
       "max      2019.0       4.000000      12.000000      31.000000       7.000000   \n",
       "\n",
       "            DISTANCE          price          class        airline  \\\n",
       "count  317223.000000  317223.000000  317223.000000  317223.000000   \n",
       "mean     1266.801811     715.184722       0.702660       4.055567   \n",
       "std       666.230019     596.638702       0.457088       1.456562   \n",
       "min        89.000000     444.000000       0.000000       1.000000   \n",
       "25%       696.000000     444.000000       0.000000       3.000000   \n",
       "50%      1024.000000     844.000000       1.000000       3.000000   \n",
       "75%      1721.000000     844.000000       1.000000       6.000000   \n",
       "max      2732.000000   31260.000000       1.000000       6.000000   \n",
       "\n",
       "               stops  departure_time   arrival_time         Delays  \n",
       "count  317223.000000   317223.000000  317223.000000  317223.000000  \n",
       "mean        0.932231        2.083991       2.663401       0.190160  \n",
       "std         0.428527        1.137905       1.286088       0.392428  \n",
       "min         0.000000        1.000000       1.000000       0.000000  \n",
       "25%         1.000000        1.000000       1.000000       0.000000  \n",
       "50%         1.000000        2.000000       3.000000       0.000000  \n",
       "75%         1.000000        3.000000       4.000000       0.000000  \n",
       "max         2.000000        5.000000       5.000000       1.000000  "
      ]
     },
     "execution_count": 4,
     "metadata": {},
     "output_type": "execute_result"
    }
   ],
   "source": [
    "df1.describe()"
   ]
  },
  {
   "cell_type": "code",
   "execution_count": 3,
   "id": "5b26d810",
   "metadata": {},
   "outputs": [],
   "source": [
    "#define x and y\n",
    "df1 = df1.dropna(subset=[\"DISTANCE\",\"price\"],how=\"any\")\n",
    "\n",
    "#Did binning to convert continous data to categorical data\n",
    "df1['price'] = pd.cut(df1['price'], bins=5, labels=False)\n",
    "\n",
    "x = df1[[\"DISTANCE\",\"DISTANCE\"]]\n",
    "y = df1['price'] # Value to predict"
   ]
  },
  {
   "cell_type": "code",
   "execution_count": 7,
   "id": "aea5843a",
   "metadata": {},
   "outputs": [],
   "source": [
    "#import classification algos and cross validation\n",
    "from sklearn.svm import SVC\n",
    "from sklearn.tree import DecisionTreeClassifier\n",
    "from sklearn.linear_model import LogisticRegression\n",
    "from sklearn.ensemble import RandomForestClassifier\n",
    "from sklearn.neighbors import KNeighborsClassifier\n",
    "from sklearn.metrics import accuracy_score\n",
    "from sklearn.model_selection import cross_val_score"
   ]
  },
  {
   "cell_type": "code",
   "execution_count": 8,
   "id": "98e390d8",
   "metadata": {},
   "outputs": [
    {
     "name": "stdout",
     "output_type": "stream",
     "text": [
      "Cross-validation scores for Linear Regression: [-0.00399767  0.          0.          0.96805614  0.        ]\n"
     ]
    }
   ],
   "source": [
    "from sklearn.linear_model import LinearRegression\n",
    "from sklearn.model_selection import cross_val_score\n",
    "# Instantiate the Linear Regression model\n",
    "linear_reg = LinearRegression()\n",
    "# Fit the model\n",
    "linear_reg.fit(x, y)\n",
    "# Perform cross-validation\n",
    "linear_reg_scores = cross_val_score(linear_reg, x, y, cv=5)\n",
    "print(\"Cross-validation scores for Linear Regression:\", linear_reg_scores)"
   ]
  },
  {
   "cell_type": "code",
   "execution_count": 9,
   "id": "7a0cc47b",
   "metadata": {},
   "outputs": [
    {
     "name": "stdout",
     "output_type": "stream",
     "text": [
      "Cross-validation scores for Decision Tree Regression: [-0.00829853  0.          0.          0.98599483  0.        ]\n"
     ]
    }
   ],
   "source": [
    "from sklearn.tree import DecisionTreeRegressor\n",
    "from sklearn.model_selection import cross_val_score\n",
    "# Instantiate the Decision Tree Regressor model\n",
    "decision_tree_reg = DecisionTreeRegressor()\n",
    "# Perform cross-validation\n",
    "decision_tree_reg_scores = cross_val_score(decision_tree_reg, x, y, cv=5)\n",
    "print(\"Cross-validation scores for Decision Tree Regression:\",decision_tree_reg_scores)"
   ]
  },
  {
   "cell_type": "code",
   "execution_count": 10,
   "id": "1297c0ae",
   "metadata": {},
   "outputs": [
    {
     "name": "stdout",
     "output_type": "stream",
     "text": [
      "Cross-validation scores for Linear Regression: [-0.00399767  0.          0.          0.96805614  0.        ]\n"
     ]
    }
   ],
   "source": [
    "from sklearn.linear_model import LinearRegression\n",
    "from sklearn.model_selection import cross_val_score\n",
    "# Instantiate the Linear Regression model\n",
    "linear_reg = LinearRegression()\n",
    "# Perform cross-validation\n",
    "linear_reg_scores = cross_val_score(linear_reg, x, y, cv=5)\n",
    "print(\"Cross-validation scores for Linear Regression:\", linear_reg_scores)"
   ]
  },
  {
   "cell_type": "code",
   "execution_count": 12,
   "id": "ba9fc947",
   "metadata": {},
   "outputs": [
    {
     "name": "stdout",
     "output_type": "stream",
     "text": [
      "Cross-validation scores for Random Forest Regression: [-0.00831398  0.          0.          0.98599483  0.        ]\n"
     ]
    }
   ],
   "source": [
    "from sklearn.ensemble import RandomForestRegressor\n",
    "from sklearn.model_selection import cross_val_score\n",
    "# Instantiate the Random Forest Regressor model\n",
    "random_forest_reg = RandomForestRegressor(n_estimators=50)\n",
    "# Perform cross-validation\n",
    "random_forest_reg_scores = cross_val_score(random_forest_reg, x, y, cv=5)\n",
    "print(\"Cross-validation scores for Random Forest Regression:\",random_forest_reg_scores)"
   ]
  },
  {
   "cell_type": "code",
   "execution_count": 13,
   "id": "b25942ea",
   "metadata": {},
   "outputs": [],
   "source": [
    "#Train test\n",
    "from sklearn.model_selection import train_test_split\n",
    "X_train, X_test, y_train, y_test = train_test_split(x, y, test_size = 0.2)"
   ]
  },
  {
   "cell_type": "code",
   "execution_count": 14,
   "id": "8b49cb8f",
   "metadata": {},
   "outputs": [],
   "source": [
    "from sklearn.ensemble import RandomForestRegressor\n",
    "# Model design\n",
    "model = RandomForestRegressor()\n",
    "model.fit(X_train, y_train)\n",
    "y_pred = model.predict(X_test)"
   ]
  },
  {
   "cell_type": "code",
   "execution_count": 15,
   "id": "2505154d",
   "metadata": {},
   "outputs": [
    {
     "name": "stdout",
     "output_type": "stream",
     "text": [
      "Confusion Matrix:\n",
      "[[63445]]\n"
     ]
    }
   ],
   "source": [
    "import numpy as np\n",
    "from sklearn.metrics import confusion_matrix\n",
    "threshold = 0.5\n",
    "y_test_class = np.where(y_test >= threshold, 1, 0)\n",
    "y_pred_class = np.where(y_pred >= threshold, 1, 0)\n",
    "# Calculate confusion matrix\n",
    "cm = confusion_matrix(y_test_class, y_pred_class)\n",
    "print(\"Confusion Matrix:\")\n",
    "print(cm)"
   ]
  },
  {
   "cell_type": "code",
   "execution_count": 16,
   "id": "c0ec0f38",
   "metadata": {},
   "outputs": [
    {
     "name": "stdout",
     "output_type": "stream",
     "text": [
      "Accuracy: 1.0\n"
     ]
    }
   ],
   "source": [
    "from sklearn.metrics import accuracy_score\n",
    "threshold = 0.5\n",
    "y_test_class = np.where(y_test >= threshold, 1, 0)\n",
    "y_pred_class = np.where(y_pred >= threshold, 1, 0)\n",
    "accuracy = accuracy_score(y_test_class, y_pred_class)\n",
    "print(\"Accuracy:\", accuracy)\n"
   ]
  },
  {
   "cell_type": "code",
   "execution_count": 6,
   "id": "40044727",
   "metadata": {},
   "outputs": [],
   "source": [
    "x = df[['airline', 'class', 'DISTANCE', 'stops', 'Delays', 'QUARTER']]\n",
    "y = df['price']"
   ]
  },
  {
   "cell_type": "code",
   "execution_count": 4,
   "id": "c749bbdd",
   "metadata": {},
   "outputs": [],
   "source": [
    "#import classification algos and cross validation \n",
    "from sklearn.svm import SVC\n",
    "from sklearn.tree import DecisionTreeClassifier\n",
    "from sklearn.linear_model import LogisticRegression \n",
    "from sklearn.ensemble import RandomForestClassifier \n",
    "from sklearn.neighbors import KNeighborsClassifier \n",
    "from sklearn.metrics import accuracy_score\n",
    "from sklearn.model_selection import cross_val_score"
   ]
  },
  {
   "cell_type": "code",
   "execution_count": 6,
   "id": "492560ec",
   "metadata": {},
   "outputs": [],
   "source": [
    "#Cross validation for SVC \n",
    "cross_val_score(SVC(),x, y, cv = 5)"
   ]
  },
  {
   "cell_type": "code",
   "execution_count": null,
   "id": "ebd89ff3",
   "metadata": {},
   "outputs": [],
   "source": [
    "#define x and y\n",
    "x = df1[['DISTANCE', 'class', 'stops', 'price']] \n",
    "y = df1['Delays']"
   ]
  },
  {
   "cell_type": "code",
   "execution_count": null,
   "id": "c631534d",
   "metadata": {},
   "outputs": [],
   "source": [
    "#Cross validation for Decision Tree \n",
    "cross_val_score(DecisionTreeClassifier(), x, y, cv = 5)"
   ]
  },
  {
   "cell_type": "code",
   "execution_count": null,
   "id": "6b9306ba",
   "metadata": {},
   "outputs": [],
   "source": [
    "#Cross validation for Logistic regression \n",
    "cross_val_score(LogisticRegression(), x, y, cv = 5)"
   ]
  },
  {
   "cell_type": "code",
   "execution_count": null,
   "id": "414cefa3",
   "metadata": {},
   "outputs": [],
   "source": [
    "#Cross validation for Random forest \n",
    "cross_val_score(RandomForestClassifier(n_estimators=50), x, y, cv = 5)"
   ]
  },
  {
   "cell_type": "code",
   "execution_count": null,
   "id": "979b2b96",
   "metadata": {},
   "outputs": [],
   "source": [
    "#Cross validation for KNN \n",
    "cross_val_score(KNeighborsClassifier(),x, y ,cv = 5)"
   ]
  },
  {
   "cell_type": "code",
   "execution_count": null,
   "id": "ca997962",
   "metadata": {},
   "outputs": [],
   "source": [
    "#Train test\n",
    "from sklearn.model_selection import train_test_split\n",
    "X_train, X_test, y_train, y_test = train_test_split(x, y, test_size = 0.2)"
   ]
  },
  {
   "cell_type": "code",
   "execution_count": null,
   "id": "e75b5748",
   "metadata": {},
   "outputs": [],
   "source": [
    "#Model design\n",
    "model = RandomForestClassifier() \n",
    "model.fit(X_train, y_train)\n",
    "y_pred = model.predict(X_test)"
   ]
  },
  {
   "cell_type": "code",
   "execution_count": null,
   "id": "2df5d3fe",
   "metadata": {},
   "outputs": [],
   "source": [
    "#Confusion matrix\n",
    "from sklearn.metrics import confusion_matrix \n",
    "cm = confusion_matrix(y_test, y_pred)\n",
    "cm"
   ]
  },
  {
   "cell_type": "code",
   "execution_count": null,
   "id": "b9165819",
   "metadata": {},
   "outputs": [],
   "source": [
    "#Accuracy\n",
    "print(accuracy_score(y_test, model.predict(X_test)))"
   ]
  },
  {
   "cell_type": "code",
   "execution_count": 18,
   "id": "f42e8a4e",
   "metadata": {},
   "outputs": [
    {
     "ename": "NameError",
     "evalue": "name 'StandardScaler' is not defined",
     "output_type": "error",
     "traceback": [
      "\u001b[1;31m---------------------------------------------------------------------------\u001b[0m",
      "\u001b[1;31mNameError\u001b[0m                                 Traceback (most recent call last)",
      "\u001b[1;32m~\\AppData\\Local\\Temp\\ipykernel_17380\\1631340509.py\u001b[0m in \u001b[0;36m<module>\u001b[1;34m\u001b[0m\n\u001b[0;32m      3\u001b[0m \u001b[1;33m\u001b[0m\u001b[0m\n\u001b[0;32m      4\u001b[0m \u001b[1;31m# Scale the features using standardization\u001b[0m\u001b[1;33m\u001b[0m\u001b[1;33m\u001b[0m\u001b[0m\n\u001b[1;32m----> 5\u001b[1;33m \u001b[0mscaler\u001b[0m \u001b[1;33m=\u001b[0m \u001b[0mStandardScaler\u001b[0m\u001b[1;33m(\u001b[0m\u001b[1;33m)\u001b[0m\u001b[1;33m\u001b[0m\u001b[1;33m\u001b[0m\u001b[0m\n\u001b[0m\u001b[0;32m      6\u001b[0m \u001b[0mX_train\u001b[0m \u001b[1;33m=\u001b[0m \u001b[0mscaler\u001b[0m\u001b[1;33m.\u001b[0m\u001b[0mfit_transform\u001b[0m\u001b[1;33m(\u001b[0m\u001b[0mX_train\u001b[0m\u001b[1;33m)\u001b[0m\u001b[1;33m\u001b[0m\u001b[1;33m\u001b[0m\u001b[0m\n\u001b[0;32m      7\u001b[0m \u001b[0mX_test\u001b[0m \u001b[1;33m=\u001b[0m \u001b[0mscaler\u001b[0m\u001b[1;33m.\u001b[0m\u001b[0mtransform\u001b[0m\u001b[1;33m(\u001b[0m\u001b[0mX_test\u001b[0m\u001b[1;33m)\u001b[0m\u001b[1;33m\u001b[0m\u001b[1;33m\u001b[0m\u001b[0m\n",
      "\u001b[1;31mNameError\u001b[0m: name 'StandardScaler' is not defined"
     ]
    }
   ],
   "source": [
    "#Random forest classifier\n",
    "X_train, X_test, y_train, y_test = train_test_split(df.drop('airline', axis=1), df['airline'], test_size=0.2, random_state=42)\n",
    "\n",
    "# Scale the features using standardization\n",
    "scaler = StandardScaler()\n",
    "X_train = scaler.fit_transform(X_train)\n",
    "X_test = scaler.transform(X_test)\n",
    "\n",
    "# Train the Random Forest Classifier\n",
    "rfc = RandomForestClassifier(n_estimators=100, random_state=42)\n",
    "rfc.fit(X_train, y_train)\n",
    "\n",
    "# Test the Random Forest Classifier\n",
    "y_pred = rfc.predict(X_test)\n",
    "accuracy = accuracy_score(y_test, y_pred)\n",
    "print(f\"Accuracy of Random Forest Classifier: {accuracy:.2f}\")\n",
    "\n",
    "# Plot the confusion matrix using heatmap\n",
    "sns.heatmap(cm, annot=True, cmap=\"Blues\")\n",
    "plt.title('Confusion Matrix')\n",
    "plt.xlabel('Predicted')\n",
    "plt.ylabel('True')\n",
    "plt.show()"
   ]
  },
  {
   "cell_type": "code",
   "execution_count": null,
   "id": "d0d42e5d",
   "metadata": {},
   "outputs": [],
   "source": []
  }
 ],
 "metadata": {
  "kernelspec": {
   "display_name": "Python 3 (ipykernel)",
   "language": "python",
   "name": "python3"
  },
  "language_info": {
   "codemirror_mode": {
    "name": "ipython",
    "version": 3
   },
   "file_extension": ".py",
   "mimetype": "text/x-python",
   "name": "python",
   "nbconvert_exporter": "python",
   "pygments_lexer": "ipython3",
   "version": "3.9.13"
  }
 },
 "nbformat": 4,
 "nbformat_minor": 5
}
