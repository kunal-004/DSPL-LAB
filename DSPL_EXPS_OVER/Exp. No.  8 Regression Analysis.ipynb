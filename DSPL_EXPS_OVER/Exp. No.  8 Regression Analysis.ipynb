{
 "cells": [
  {
   "cell_type": "code",
   "execution_count": 1,
   "id": "f579d715",
   "metadata": {},
   "outputs": [],
   "source": [
    "import pandas as pd \n",
    "#import classification algo\n",
    "from sklearn.linear_model import LogisticRegression \n",
    "from sklearn.metrics import accuracy_score"
   ]
  },
  {
   "cell_type": "code",
   "execution_count": 2,
   "id": "fca611a7",
   "metadata": {},
   "outputs": [],
   "source": [
    "df = pd.read_csv(\"C:\\\\Users\\\\kunal rajesh pitale\\\\Downloads\\\\flight2\\\\flights.csv\") \n",
    "df5 = df\n",
    "\n",
    "df5 = df5.dropna(subset=[\"DISTANCE\",\"price\",\"airline\"],how=\"any\")\n",
    "\n",
    "#Did binning to convert continous data to categorical data\n",
    "df5['price'] = pd.cut(df5['price'], bins=5, labels=False)\n",
    "df5['DISTANCE'] = pd.cut(df5['DISTANCE'], bins=5, labels=False)\n",
    "df5['airline'] = pd.cut(df5['airline'], bins=5, labels=False)\n",
    "\n",
    "x = df5[['DISTANCE', 'airline']] \n",
    "y = df5['price']"
   ]
  },
  {
   "cell_type": "code",
   "execution_count": 3,
   "id": "e13dad03",
   "metadata": {},
   "outputs": [],
   "source": [
    "from sklearn.model_selection import train_test_split\n",
    "X_train, X_test, y_train, y_test = train_test_split(x,y, test_size = 0.2)"
   ]
  },
  {
   "cell_type": "code",
   "execution_count": 4,
   "id": "22f847dc",
   "metadata": {},
   "outputs": [],
   "source": [
    "#Classification model\n",
    "model = LogisticRegression() \n",
    "model.fit(X_train, y_train) \n",
    "y_pred = model.predict(X_test) "
   ]
  },
  {
   "cell_type": "code",
   "execution_count": 5,
   "id": "09d858fe",
   "metadata": {},
   "outputs": [
    {
     "name": "stdout",
     "output_type": "stream",
     "text": [
      "0.6599889668216565\n"
     ]
    }
   ],
   "source": [
    "#Accuracy and Confusion matrix\n",
    "from sklearn.metrics import confusion_matrix \n",
    "cm = confusion_matrix(y_test, y_pred)\n",
    "print(accuracy_score(y_test, model.predict(X_test)))\n"
   ]
  }
 ],
 "metadata": {
  "kernelspec": {
   "display_name": "Python 3 (ipykernel)",
   "language": "python",
   "name": "python3"
  },
  "language_info": {
   "codemirror_mode": {
    "name": "ipython",
    "version": 3
   },
   "file_extension": ".py",
   "mimetype": "text/x-python",
   "name": "python",
   "nbconvert_exporter": "python",
   "pygments_lexer": "ipython3",
   "version": "3.9.13"
  }
 },
 "nbformat": 4,
 "nbformat_minor": 5
}
